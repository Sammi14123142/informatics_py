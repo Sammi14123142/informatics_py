{
 "cells": [
  {
   "cell_type": "markdown",
   "metadata": {},
   "source": [
    "Inspired by a course Using Databases with Python on Coursera, I decided to parse information of places I am interested in using the Google GeoCoding API and store them in an MS Access file.\n",
    "\n",
    "I chose Access 2013 simply because I was practicing on a computer in the library which has no other type of database installed. However, there does not exist an equivalent to MySQL 'CREATE TABLE IF NOT EXISTS' in MS Access which is a piece of useful code I found in the sample code of this course."
   ]
  },
  {
   "cell_type": "code",
   "execution_count": null,
   "metadata": {
    "collapsed": true
   },
   "outputs": [],
   "source": [
    "import urllib.parse\n",
    "import urllib.request\n",
    "import os\n",
    "import pyodbc\n",
    "import json\n",
    "import time\n",
    "import ssl"
   ]
  },
  {
   "cell_type": "code",
   "execution_count": null,
   "metadata": {
    "collapsed": true
   },
   "outputs": [],
   "source": [
    "serviceurl = \"http://maps.googleapis.com/maps/api/geocode/json?\"\n",
    "\n",
    "dataFile = \"geodata.accdb\"\n",
    "databaseFile = os.getcwd() + \"\\\\\" + dataFile\n",
    "connectionString = \"Driver={Microsoft Access Driver (*.mdb, *.accdb)}; Dbq=%s\" % databaseFile\n",
    "conn = pyodbc.connect(connectionString)\n",
    "cur = conn.cursor()\n",
    "\n",
    "cur.execute('''\n",
    "CREATE TABLE Locations (address TEXT, geodata TEXT)''')\n",
    "\n",
    "fh = open(\"where.data\")\n",
    "count = 0\n",
    "for line in fh:\n",
    "    if count > 200 : break\n",
    "    address = line.strip()\n",
    "    print('')\n",
    "    cur.execute(\"SELECT geodata FROM Locations WHERE address= ?\", (address, ))\n",
    "\n",
    "    try:\n",
    "        data = cur.fetchone()[0]\n",
    "        print(\"Found in database \",address)\n",
    "        continue\n",
    "    except:\n",
    "        pass\n",
    "\n",
    "    print('Resolving', address)\n",
    "    url = serviceurl + urllib.parse.urlencode({\"sensor\":\"false\", \"address\": address})\n",
    "    print('Retrieving', url)\n",
    "    uh = urllib.request.urlopen(url)\n",
    "    data = uh.read()\n",
    "    count += 1\n",
    "    try: \n",
    "        js = json.loads(str(data))\n",
    "    except: \n",
    "        continue\n",
    "\n",
    "    if 'status' not in js or (js['status'] != 'OK' and js['status'] != 'ZERO_RESULTS') : \n",
    "        print('==== Failure To Retrieve ====')\n",
    "        print(data)\n",
    "        break\n",
    "\n",
    "    cur.execute('''INSERT INTO Locations (address, geodata) \n",
    "            VALUES ( ?, ? )''', ( address,data ) )\n",
    "    conn.commit() \n",
    "    time.sleep(2)"
   ]
  }
 ],
 "metadata": {
  "kernelspec": {
   "display_name": "Python 3",
   "language": "python",
   "name": "python3"
  }
 },
 "nbformat": 4,
 "nbformat_minor": 0
}
